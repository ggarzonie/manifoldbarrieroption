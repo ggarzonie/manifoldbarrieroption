{
 "cells": [
  {
   "cell_type": "code",
   "execution_count": 2,
   "metadata": {},
   "outputs": [
    {
     "name": "stdout",
     "output_type": "stream",
     "text": [
      "Estimated probability of crossing 0.5: 0.9137\n"
     ]
    }
   ],
   "source": [
    "import numpy as np\n",
    "from scipy.stats import norm\n",
    "\n",
    "def simulate_path(initial_price, expiration_time, num_steps, barrier):\n",
    "    dt = expiration_time / num_steps\n",
    "    price = initial_price\n",
    "    for t in range(num_steps):\n",
    "        time_left = expiration_time - t * dt\n",
    "        vol = phi(norm.ppf(price)) / np.sqrt(time_left)\n",
    "        price += vol * np.sqrt(dt) * np.random.normal()\n",
    "        price = np.clip(price, 0, 1)  # Ensure price stays in [0, 1]\n",
    "        if price >= barrier:\n",
    "            return True\n",
    "    return False\n",
    "\n",
    "def phi(x):\n",
    "    return np.exp(-x**2/2) / np.sqrt(2*np.pi)\n",
    "\n",
    "def estimate_crossing_probability(initial_price, expiration_time, barrier, num_simulations=10000, num_steps=1000):\n",
    "    crossings = sum(simulate_path(initial_price, expiration_time, num_steps, barrier) \n",
    "                    for _ in range(num_simulations))\n",
    "    return crossings / num_simulations\n",
    "\n",
    "# Example usage\n",
    "initial_price = 0.451/(.451+.52)\n",
    "expiration_time = .25  # in years\n",
    "barrier = 0.5\n",
    "num_simulations = 50000\n",
    "num_steps = 1000\n",
    "\n",
    "prob = estimate_crossing_probability(initial_price, expiration_time, barrier, num_simulations, num_steps)\n",
    "print(f\"Estimated probability of crossing {barrier}: {prob:.4f}\")"
   ]
  }
 ],
 "metadata": {
  "kernelspec": {
   "display_name": "traffic",
   "language": "python",
   "name": "python3"
  },
  "language_info": {
   "codemirror_mode": {
    "name": "ipython",
    "version": 3
   },
   "file_extension": ".py",
   "mimetype": "text/x-python",
   "name": "python",
   "nbconvert_exporter": "python",
   "pygments_lexer": "ipython3",
   "version": "3.10.5"
  }
 },
 "nbformat": 4,
 "nbformat_minor": 2
}
